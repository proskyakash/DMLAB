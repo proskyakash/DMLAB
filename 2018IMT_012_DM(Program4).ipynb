{
  "nbformat": 4,
  "nbformat_minor": 0,
  "metadata": {
    "colab": {
      "name": "dmml _assignment_4_(2020IS-04)_HIMANSHU_SINGH.ipynb",
      "provenance": [],
      "collapsed_sections": []
    },
    "kernelspec": {
      "name": "python3",
      "display_name": "Python 3"
    },
    "language_info": {
      "name": "python"
    }
  },
  "cells": [
    {
      "cell_type": "markdown",
      "source": [
        "**Name-**Akash Verma\n",
        "\n",
        "**Roll no.-**2018IMT-012\n",
        "\n",
        "**Course-** DM Lab\n",
        "\n",
        "**Program-4**"
      ],
      "metadata": {
        "id": "0Xj0jme43Uet"
      }
    },
    {
      "cell_type": "code",
      "metadata": {
        "id": "6-n0bDBKAP68"
      },
      "source": [
        "#Importing necessary libraries\n",
        "import math\n",
        "from pprint import pprint\n",
        "from matplotlib import pyplot as plt\n",
        "import pandas as pd\n",
        "import numpy as np\n",
        "import warnings\n",
        "warnings.filterwarnings('ignore')"
      ],
      "execution_count": null,
      "outputs": []
    },
    {
      "cell_type": "code",
      "metadata": {
        "colab": {
          "base_uri": "https://localhost:8080/",
          "height": 204
        },
        "id": "iCqgkykcAdj5",
        "outputId": "771390ba-4d1c-413f-8c54-fe3683de29b4"
      },
      "source": [
        "#Load the dataset\n",
        "file_columns = ['sepal_len','sepal_width','petal_len','petal_width','class']\n",
        "data = pd.read_csv('iris.csv',header=None, names=file_columns)\n",
        "data.head()"
      ],
      "execution_count": null,
      "outputs": [
        {
          "output_type": "execute_result",
          "data": {
            "text/html": [
              "<div>\n",
              "<style scoped>\n",
              "    .dataframe tbody tr th:only-of-type {\n",
              "        vertical-align: middle;\n",
              "    }\n",
              "\n",
              "    .dataframe tbody tr th {\n",
              "        vertical-align: top;\n",
              "    }\n",
              "\n",
              "    .dataframe thead th {\n",
              "        text-align: right;\n",
              "    }\n",
              "</style>\n",
              "<table border=\"1\" class=\"dataframe\">\n",
              "  <thead>\n",
              "    <tr style=\"text-align: right;\">\n",
              "      <th></th>\n",
              "      <th>sepal_len</th>\n",
              "      <th>sepal_width</th>\n",
              "      <th>petal_len</th>\n",
              "      <th>petal_width</th>\n",
              "      <th>class</th>\n",
              "    </tr>\n",
              "  </thead>\n",
              "  <tbody>\n",
              "    <tr>\n",
              "      <th>0</th>\n",
              "      <td>5.1</td>\n",
              "      <td>3.5</td>\n",
              "      <td>1.4</td>\n",
              "      <td>0.2</td>\n",
              "      <td>Iris-setosa</td>\n",
              "    </tr>\n",
              "    <tr>\n",
              "      <th>1</th>\n",
              "      <td>4.9</td>\n",
              "      <td>3.0</td>\n",
              "      <td>1.4</td>\n",
              "      <td>0.2</td>\n",
              "      <td>Iris-setosa</td>\n",
              "    </tr>\n",
              "    <tr>\n",
              "      <th>2</th>\n",
              "      <td>4.7</td>\n",
              "      <td>3.2</td>\n",
              "      <td>1.3</td>\n",
              "      <td>0.2</td>\n",
              "      <td>Iris-setosa</td>\n",
              "    </tr>\n",
              "    <tr>\n",
              "      <th>3</th>\n",
              "      <td>4.6</td>\n",
              "      <td>3.1</td>\n",
              "      <td>1.5</td>\n",
              "      <td>0.2</td>\n",
              "      <td>Iris-setosa</td>\n",
              "    </tr>\n",
              "    <tr>\n",
              "      <th>4</th>\n",
              "      <td>5.0</td>\n",
              "      <td>3.6</td>\n",
              "      <td>1.4</td>\n",
              "      <td>0.2</td>\n",
              "      <td>Iris-setosa</td>\n",
              "    </tr>\n",
              "  </tbody>\n",
              "</table>\n",
              "</div>"
            ],
            "text/plain": [
              "   sepal_len  sepal_width  petal_len  petal_width        class\n",
              "0        5.1          3.5        1.4          0.2  Iris-setosa\n",
              "1        4.9          3.0        1.4          0.2  Iris-setosa\n",
              "2        4.7          3.2        1.3          0.2  Iris-setosa\n",
              "3        4.6          3.1        1.5          0.2  Iris-setosa\n",
              "4        5.0          3.6        1.4          0.2  Iris-setosa"
            ]
          },
          "metadata": {
            "tags": []
          },
          "execution_count": 2
        }
      ]
    },
    {
      "cell_type": "code",
      "metadata": {
        "colab": {
          "base_uri": "https://localhost:8080/",
          "height": 204
        },
        "id": "LefgutndAuu2",
        "outputId": "0d9a04f3-656c-4e5a-ae1e-61a84e423e70"
      },
      "source": [
        "#Shuffle the data\n",
        "data = data.sample(frac=1).reset_index(drop=True)\n",
        "data['seq'] = data.index\n",
        "data.head()"
      ],
      "execution_count": null,
      "outputs": [
        {
          "output_type": "execute_result",
          "data": {
            "text/html": [
              "<div>\n",
              "<style scoped>\n",
              "    .dataframe tbody tr th:only-of-type {\n",
              "        vertical-align: middle;\n",
              "    }\n",
              "\n",
              "    .dataframe tbody tr th {\n",
              "        vertical-align: top;\n",
              "    }\n",
              "\n",
              "    .dataframe thead th {\n",
              "        text-align: right;\n",
              "    }\n",
              "</style>\n",
              "<table border=\"1\" class=\"dataframe\">\n",
              "  <thead>\n",
              "    <tr style=\"text-align: right;\">\n",
              "      <th></th>\n",
              "      <th>sepal_len</th>\n",
              "      <th>sepal_width</th>\n",
              "      <th>petal_len</th>\n",
              "      <th>petal_width</th>\n",
              "      <th>class</th>\n",
              "      <th>seq</th>\n",
              "    </tr>\n",
              "  </thead>\n",
              "  <tbody>\n",
              "    <tr>\n",
              "      <th>0</th>\n",
              "      <td>6.2</td>\n",
              "      <td>2.2</td>\n",
              "      <td>4.5</td>\n",
              "      <td>1.5</td>\n",
              "      <td>Iris-versicolor</td>\n",
              "      <td>0</td>\n",
              "    </tr>\n",
              "    <tr>\n",
              "      <th>1</th>\n",
              "      <td>4.8</td>\n",
              "      <td>3.4</td>\n",
              "      <td>1.6</td>\n",
              "      <td>0.2</td>\n",
              "      <td>Iris-setosa</td>\n",
              "      <td>1</td>\n",
              "    </tr>\n",
              "    <tr>\n",
              "      <th>2</th>\n",
              "      <td>7.7</td>\n",
              "      <td>3.8</td>\n",
              "      <td>6.7</td>\n",
              "      <td>2.2</td>\n",
              "      <td>Iris-virginica</td>\n",
              "      <td>2</td>\n",
              "    </tr>\n",
              "    <tr>\n",
              "      <th>3</th>\n",
              "      <td>5.0</td>\n",
              "      <td>3.2</td>\n",
              "      <td>1.2</td>\n",
              "      <td>0.2</td>\n",
              "      <td>Iris-setosa</td>\n",
              "      <td>3</td>\n",
              "    </tr>\n",
              "    <tr>\n",
              "      <th>4</th>\n",
              "      <td>6.0</td>\n",
              "      <td>2.2</td>\n",
              "      <td>5.0</td>\n",
              "      <td>1.5</td>\n",
              "      <td>Iris-virginica</td>\n",
              "      <td>4</td>\n",
              "    </tr>\n",
              "  </tbody>\n",
              "</table>\n",
              "</div>"
            ],
            "text/plain": [
              "   sepal_len  sepal_width  petal_len  petal_width            class  seq\n",
              "0        6.2          2.2        4.5          1.5  Iris-versicolor    0\n",
              "1        4.8          3.4        1.6          0.2      Iris-setosa    1\n",
              "2        7.7          3.8        6.7          2.2   Iris-virginica    2\n",
              "3        5.0          3.2        1.2          0.2      Iris-setosa    3\n",
              "4        6.0          2.2        5.0          1.5   Iris-virginica    4"
            ]
          },
          "metadata": {
            "tags": []
          },
          "execution_count": 3
        }
      ]
    },
    {
      "cell_type": "code",
      "metadata": {
        "id": "1zgAiC52A0Ol"
      },
      "source": [
        "#split dataset into train and test data\n",
        "dev_size = int(data.shape[0]*0.70)\n",
        "test_size = int(data.shape[0]*0.30)\n",
        "\n",
        "# Take first 70% of the data as dev set\n",
        "dev = data[:dev_size]\n",
        "\n",
        "# Take last 30% of the data as test set\n",
        "test = data[test_size:]"
      ],
      "execution_count": null,
      "outputs": []
    },
    {
      "cell_type": "code",
      "metadata": {
        "id": "Oq-oTcxmA_lm"
      },
      "source": [
        "# Euclidean distance method\n",
        "def get_euclidean(row1, row2):\n",
        "    return math.sqrt(sum([(x1-x2)**2 for x1,x2 in zip(row1,row2)]))"
      ],
      "execution_count": null,
      "outputs": []
    },
    {
      "cell_type": "code",
      "metadata": {
        "id": "SpSFSAe4BeHX"
      },
      "source": [
        "#calculate distance between every point in the dataset and every other point is calculated \n",
        "#by using euclidean distance method\n",
        "dev2 = dev.values\n",
        "eud = []\n",
        "l = len(dev2)\n",
        "for i in range(l):\n",
        "    eu_distance = []\n",
        "    for j in range(l):\n",
        "        if(i!=j):\n",
        "            index = dev2[j][5]\n",
        "            ed = get_euclidean(dev2[i][:-2], dev2[j][:-2])\n",
        "            \n",
        "            eu_distance.append((ed, index))\n",
        "    eu_distance.sort(key= lambda x: x[0])\n",
        "    eu_distance = [i[1] for i in eu_distance]\n",
        "    eud.append(eu_distance)\n",
        "dev['euclidean'] = eud"
      ],
      "execution_count": null,
      "outputs": []
    },
    {
      "cell_type": "code",
      "metadata": {
        "id": "qGORxLtVCUn_"
      },
      "source": [
        "#k closest neighbors are selected for every point in the dev set.\n",
        "def get_nearest(row, distance_measure,k):\n",
        "    return row[distance_measure][:k]"
      ],
      "execution_count": null,
      "outputs": []
    },
    {
      "cell_type": "code",
      "metadata": {
        "id": "BXJU4F44CbSe"
      },
      "source": [
        "#Among the K nearest neighbors, the dominant class is elected and \n",
        "#the data point is classified to belong to this class.\n",
        "def get_dominant_class(df, neighbors):\n",
        "    classes = df[df['seq'].isin(neighbors)]['class']\n",
        "    return classes.value_counts().index[0]"
      ],
      "execution_count": null,
      "outputs": []
    },
    {
      "cell_type": "code",
      "metadata": {
        "id": "szVvh3zLCobZ"
      },
      "source": [
        "#Optimizing K\n",
        "k = 1\n",
        "hyper_params = []\n",
        "acc = {1: {}, 3:{}, 5:{}, 7:{}}\n",
        "\n",
        "while k <= 7:\n",
        "    dev['eud_{}'.format(k)] = dev.apply(lambda x: get_nearest(x, 'euclidean',k), axis=1)\n",
        "    dev['eud_{}_class'.format(k)] = dev['eud_{}'.format(k)].apply(lambda row: get_dominant_class(dev, row))\n",
        "    hyper_params.append('eud_{}_class'.format(k))\n",
        "    acc[k]['eud'] = dev[dev['class']==dev['eud_{}_class'.format(k)]].shape[0]/dev.shape[0]\n",
        "    k+=2"
      ],
      "execution_count": null,
      "outputs": []
    },
    {
      "cell_type": "code",
      "metadata": {
        "colab": {
          "base_uri": "https://localhost:8080/",
          "height": 204
        },
        "id": "DgEDz7SjC5k5",
        "outputId": "768f7fc1-e175-477e-ba0f-1b81f70d33ea"
      },
      "source": [
        "#Observe various hyper parameters\n",
        "cols = ['class'] + hyper_params\n",
        "dev[cols].head()"
      ],
      "execution_count": null,
      "outputs": [
        {
          "output_type": "execute_result",
          "data": {
            "text/html": [
              "<div>\n",
              "<style scoped>\n",
              "    .dataframe tbody tr th:only-of-type {\n",
              "        vertical-align: middle;\n",
              "    }\n",
              "\n",
              "    .dataframe tbody tr th {\n",
              "        vertical-align: top;\n",
              "    }\n",
              "\n",
              "    .dataframe thead th {\n",
              "        text-align: right;\n",
              "    }\n",
              "</style>\n",
              "<table border=\"1\" class=\"dataframe\">\n",
              "  <thead>\n",
              "    <tr style=\"text-align: right;\">\n",
              "      <th></th>\n",
              "      <th>class</th>\n",
              "      <th>eud_1_class</th>\n",
              "      <th>eud_3_class</th>\n",
              "      <th>eud_5_class</th>\n",
              "      <th>eud_7_class</th>\n",
              "    </tr>\n",
              "  </thead>\n",
              "  <tbody>\n",
              "    <tr>\n",
              "      <th>0</th>\n",
              "      <td>Iris-versicolor</td>\n",
              "      <td>Iris-versicolor</td>\n",
              "      <td>Iris-versicolor</td>\n",
              "      <td>Iris-versicolor</td>\n",
              "      <td>Iris-versicolor</td>\n",
              "    </tr>\n",
              "    <tr>\n",
              "      <th>1</th>\n",
              "      <td>Iris-setosa</td>\n",
              "      <td>Iris-setosa</td>\n",
              "      <td>Iris-setosa</td>\n",
              "      <td>Iris-setosa</td>\n",
              "      <td>Iris-setosa</td>\n",
              "    </tr>\n",
              "    <tr>\n",
              "      <th>2</th>\n",
              "      <td>Iris-virginica</td>\n",
              "      <td>Iris-virginica</td>\n",
              "      <td>Iris-virginica</td>\n",
              "      <td>Iris-virginica</td>\n",
              "      <td>Iris-virginica</td>\n",
              "    </tr>\n",
              "    <tr>\n",
              "      <th>3</th>\n",
              "      <td>Iris-setosa</td>\n",
              "      <td>Iris-setosa</td>\n",
              "      <td>Iris-setosa</td>\n",
              "      <td>Iris-setosa</td>\n",
              "      <td>Iris-setosa</td>\n",
              "    </tr>\n",
              "    <tr>\n",
              "      <th>4</th>\n",
              "      <td>Iris-virginica</td>\n",
              "      <td>Iris-versicolor</td>\n",
              "      <td>Iris-versicolor</td>\n",
              "      <td>Iris-virginica</td>\n",
              "      <td>Iris-virginica</td>\n",
              "    </tr>\n",
              "  </tbody>\n",
              "</table>\n",
              "</div>"
            ],
            "text/plain": [
              "             class      eud_1_class  ...      eud_5_class      eud_7_class\n",
              "0  Iris-versicolor  Iris-versicolor  ...  Iris-versicolor  Iris-versicolor\n",
              "1      Iris-setosa      Iris-setosa  ...      Iris-setosa      Iris-setosa\n",
              "2   Iris-virginica   Iris-virginica  ...   Iris-virginica   Iris-virginica\n",
              "3      Iris-setosa      Iris-setosa  ...      Iris-setosa      Iris-setosa\n",
              "4   Iris-virginica  Iris-versicolor  ...   Iris-virginica   Iris-virginica\n",
              "\n",
              "[5 rows x 5 columns]"
            ]
          },
          "metadata": {
            "tags": []
          },
          "execution_count": 10
        }
      ]
    },
    {
      "cell_type": "code",
      "metadata": {
        "colab": {
          "base_uri": "https://localhost:8080/"
        },
        "id": "IOywLihjDEhe",
        "outputId": "1835de97-a25d-43a0-f3ab-869956630ab9"
      },
      "source": [
        "pprint(acc)"
      ],
      "execution_count": null,
      "outputs": [
        {
          "output_type": "stream",
          "text": [
            "{1: {'eud': 0.9619047619047619},\n",
            " 3: {'eud': 0.9619047619047619},\n",
            " 5: {'eud': 0.9714285714285714},\n",
            " 7: {'eud': 0.9714285714285714}}\n"
          ],
          "name": "stdout"
        }
      ]
    },
    {
      "cell_type": "code",
      "metadata": {
        "id": "YlSb1XY5DmZX"
      },
      "source": [
        "#Calculate euclidean distance between every point in the test dataset \n",
        "#with every point in the dev set and pick 3 nearest neighbors\n",
        "test['seq'] = test.index\n",
        "test2 = test.values\n",
        "test_eud = []\n",
        "l = len(test)\n",
        "for i in range(l):\n",
        "    test_eu_distance = []\n",
        "    for j in range(len(dev)):\n",
        "        index = dev2[j][5]\n",
        "        ed = get_euclidean(test2[i][:-2], dev2[j][:-2])\n",
        "        test_eu_distance.append((ed, index))\n",
        "        \n",
        "    test_eu_distance.sort(key= lambda x: x[0])\n",
        "    test_eu_distance = [i[1] for i in test_eu_distance]\n",
        "    test_eud.append(test_eu_distance)\n",
        "    \n",
        "test['euclidean'] = test_eud"
      ],
      "execution_count": null,
      "outputs": []
    },
    {
      "cell_type": "code",
      "metadata": {
        "colab": {
          "base_uri": "https://localhost:8080/",
          "height": 204
        },
        "id": "eS1DK6lQDq1f",
        "outputId": "e092e5ed-529f-443f-caf5-c0c60e1a9fb1"
      },
      "source": [
        "#Since we obtained 3 as optimal value for the hyperparameter k, \n",
        "#we find 3 nearest neighbors between every point in the test set\n",
        "# and every point in the dev set using Euclidean Distance\n",
        "test['eu'] = test.apply(lambda x: get_nearest(x, 'euclidean',3), axis=1)\n",
        "test[file_columns+['eu']].head()"
      ],
      "execution_count": null,
      "outputs": [
        {
          "output_type": "execute_result",
          "data": {
            "text/html": [
              "<div>\n",
              "<style scoped>\n",
              "    .dataframe tbody tr th:only-of-type {\n",
              "        vertical-align: middle;\n",
              "    }\n",
              "\n",
              "    .dataframe tbody tr th {\n",
              "        vertical-align: top;\n",
              "    }\n",
              "\n",
              "    .dataframe thead th {\n",
              "        text-align: right;\n",
              "    }\n",
              "</style>\n",
              "<table border=\"1\" class=\"dataframe\">\n",
              "  <thead>\n",
              "    <tr style=\"text-align: right;\">\n",
              "      <th></th>\n",
              "      <th>sepal_len</th>\n",
              "      <th>sepal_width</th>\n",
              "      <th>petal_len</th>\n",
              "      <th>petal_width</th>\n",
              "      <th>class</th>\n",
              "      <th>eu</th>\n",
              "    </tr>\n",
              "  </thead>\n",
              "  <tbody>\n",
              "    <tr>\n",
              "      <th>45</th>\n",
              "      <td>5.4</td>\n",
              "      <td>3.9</td>\n",
              "      <td>1.3</td>\n",
              "      <td>0.4</td>\n",
              "      <td>Iris-setosa</td>\n",
              "      <td>[45, 16, 92]</td>\n",
              "    </tr>\n",
              "    <tr>\n",
              "      <th>46</th>\n",
              "      <td>6.3</td>\n",
              "      <td>3.4</td>\n",
              "      <td>5.6</td>\n",
              "      <td>2.4</td>\n",
              "      <td>Iris-virginica</td>\n",
              "      <td>[46, 87, 90]</td>\n",
              "    </tr>\n",
              "    <tr>\n",
              "      <th>47</th>\n",
              "      <td>7.7</td>\n",
              "      <td>3.0</td>\n",
              "      <td>6.1</td>\n",
              "      <td>2.3</td>\n",
              "      <td>Iris-virginica</td>\n",
              "      <td>[47, 25, 71]</td>\n",
              "    </tr>\n",
              "    <tr>\n",
              "      <th>48</th>\n",
              "      <td>6.3</td>\n",
              "      <td>3.3</td>\n",
              "      <td>4.7</td>\n",
              "      <td>1.6</td>\n",
              "      <td>Iris-versicolor</td>\n",
              "      <td>[48, 9, 57]</td>\n",
              "    </tr>\n",
              "    <tr>\n",
              "      <th>49</th>\n",
              "      <td>5.1</td>\n",
              "      <td>3.3</td>\n",
              "      <td>1.7</td>\n",
              "      <td>0.5</td>\n",
              "      <td>Iris-setosa</td>\n",
              "      <td>[49, 43, 63]</td>\n",
              "    </tr>\n",
              "  </tbody>\n",
              "</table>\n",
              "</div>"
            ],
            "text/plain": [
              "    sepal_len  sepal_width  ...            class            eu\n",
              "45        5.4          3.9  ...      Iris-setosa  [45, 16, 92]\n",
              "46        6.3          3.4  ...   Iris-virginica  [46, 87, 90]\n",
              "47        7.7          3.0  ...   Iris-virginica  [47, 25, 71]\n",
              "48        6.3          3.3  ...  Iris-versicolor   [48, 9, 57]\n",
              "49        5.1          3.3  ...      Iris-setosa  [49, 43, 63]\n",
              "\n",
              "[5 rows x 6 columns]"
            ]
          },
          "metadata": {
            "tags": []
          },
          "execution_count": 13
        }
      ]
    },
    {
      "cell_type": "code",
      "metadata": {
        "colab": {
          "base_uri": "https://localhost:8080/",
          "height": 204
        },
        "id": "Lrh6BP-KDtiH",
        "outputId": "e84a9e9a-9549-4c48-f7ab-e48acd6d9b03"
      },
      "source": [
        "#Pick the most dominant class among 3 nearest neighbors\n",
        "test['eu_class'] = test['eu'].apply(lambda row: get_dominant_class(dev, row))\n",
        "test[file_columns+['eu_class']].head()"
      ],
      "execution_count": null,
      "outputs": [
        {
          "output_type": "execute_result",
          "data": {
            "text/html": [
              "<div>\n",
              "<style scoped>\n",
              "    .dataframe tbody tr th:only-of-type {\n",
              "        vertical-align: middle;\n",
              "    }\n",
              "\n",
              "    .dataframe tbody tr th {\n",
              "        vertical-align: top;\n",
              "    }\n",
              "\n",
              "    .dataframe thead th {\n",
              "        text-align: right;\n",
              "    }\n",
              "</style>\n",
              "<table border=\"1\" class=\"dataframe\">\n",
              "  <thead>\n",
              "    <tr style=\"text-align: right;\">\n",
              "      <th></th>\n",
              "      <th>sepal_len</th>\n",
              "      <th>sepal_width</th>\n",
              "      <th>petal_len</th>\n",
              "      <th>petal_width</th>\n",
              "      <th>class</th>\n",
              "      <th>eu_class</th>\n",
              "    </tr>\n",
              "  </thead>\n",
              "  <tbody>\n",
              "    <tr>\n",
              "      <th>45</th>\n",
              "      <td>5.4</td>\n",
              "      <td>3.9</td>\n",
              "      <td>1.3</td>\n",
              "      <td>0.4</td>\n",
              "      <td>Iris-setosa</td>\n",
              "      <td>Iris-setosa</td>\n",
              "    </tr>\n",
              "    <tr>\n",
              "      <th>46</th>\n",
              "      <td>6.3</td>\n",
              "      <td>3.4</td>\n",
              "      <td>5.6</td>\n",
              "      <td>2.4</td>\n",
              "      <td>Iris-virginica</td>\n",
              "      <td>Iris-virginica</td>\n",
              "    </tr>\n",
              "    <tr>\n",
              "      <th>47</th>\n",
              "      <td>7.7</td>\n",
              "      <td>3.0</td>\n",
              "      <td>6.1</td>\n",
              "      <td>2.3</td>\n",
              "      <td>Iris-virginica</td>\n",
              "      <td>Iris-virginica</td>\n",
              "    </tr>\n",
              "    <tr>\n",
              "      <th>48</th>\n",
              "      <td>6.3</td>\n",
              "      <td>3.3</td>\n",
              "      <td>4.7</td>\n",
              "      <td>1.6</td>\n",
              "      <td>Iris-versicolor</td>\n",
              "      <td>Iris-versicolor</td>\n",
              "    </tr>\n",
              "    <tr>\n",
              "      <th>49</th>\n",
              "      <td>5.1</td>\n",
              "      <td>3.3</td>\n",
              "      <td>1.7</td>\n",
              "      <td>0.5</td>\n",
              "      <td>Iris-setosa</td>\n",
              "      <td>Iris-setosa</td>\n",
              "    </tr>\n",
              "  </tbody>\n",
              "</table>\n",
              "</div>"
            ],
            "text/plain": [
              "    sepal_len  sepal_width  ...            class         eu_class\n",
              "45        5.4          3.9  ...      Iris-setosa      Iris-setosa\n",
              "46        6.3          3.4  ...   Iris-virginica   Iris-virginica\n",
              "47        7.7          3.0  ...   Iris-virginica   Iris-virginica\n",
              "48        6.3          3.3  ...  Iris-versicolor  Iris-versicolor\n",
              "49        5.1          3.3  ...      Iris-setosa      Iris-setosa\n",
              "\n",
              "[5 rows x 6 columns]"
            ]
          },
          "metadata": {
            "tags": []
          },
          "execution_count": 14
        }
      ]
    },
    {
      "cell_type": "code",
      "metadata": {
        "id": "_a2D5IsOEQcO"
      },
      "source": [
        "y_test=test[\"class\"].tolist()"
      ],
      "execution_count": null,
      "outputs": []
    },
    {
      "cell_type": "code",
      "metadata": {
        "id": "imoY9YguF7_i"
      },
      "source": [
        "y_pred=test[\"eu_class\"].tolist()"
      ],
      "execution_count": null,
      "outputs": []
    },
    {
      "cell_type": "code",
      "metadata": {
        "colab": {
          "base_uri": "https://localhost:8080/"
        },
        "id": "A7r7Zr09GUtx",
        "outputId": "a1905f9d-cb87-47a1-c867-d5c271833b36"
      },
      "source": [
        "# Accuracy, Confusion Matrix, Classification report of KNN classifier\n",
        "from sklearn.metrics import classification_report, confusion_matrix,accuracy_score\n",
        "print(confusion_matrix(y_test, y_pred))\n",
        "print(\"Accuracy:\",accuracy_score(y_test,y_pred)*100)\n",
        "print(classification_report(y_test, y_pred))\n"
      ],
      "execution_count": null,
      "outputs": [
        {
          "output_type": "stream",
          "text": [
            "[[32  0  0]\n",
            " [ 0 38  3]\n",
            " [ 0  1 31]]\n",
            "Accuracy: 96.19047619047619\n",
            "                 precision    recall  f1-score   support\n",
            "\n",
            "    Iris-setosa       1.00      1.00      1.00        32\n",
            "Iris-versicolor       0.97      0.93      0.95        41\n",
            " Iris-virginica       0.91      0.97      0.94        32\n",
            "\n",
            "       accuracy                           0.96       105\n",
            "      macro avg       0.96      0.97      0.96       105\n",
            "   weighted avg       0.96      0.96      0.96       105\n",
            "\n"
          ],
          "name": "stdout"
        }
      ]
    }
  ]
}